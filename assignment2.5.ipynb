{
 "cells": [
  {
   "cell_type": "code",
   "execution_count": 1,
   "metadata": {},
   "outputs": [],
   "source": [
    "#Problem Statement 1:\n",
    "\n",
    "#Write a Python program using function concept that maps list of words into a list of\n",
    "#integers representing the lengths of the corresponding words.\n",
    "#Hint: ​If a list [ ab,cde,erty] is passed on to the python function output should come as\n",
    "#[2,3,4]\n",
    "#Here 2,3 and 4 are the lengths of the words in the list.\n"
   ]
  },
  {
   "cell_type": "code",
   "execution_count": 2,
   "metadata": {},
   "outputs": [],
   "source": [
    "def map_to_lengths_map(words):\n",
    "    return map(len, words)\n"
   ]
  },
  {
   "cell_type": "code",
   "execution_count": 4,
   "metadata": {},
   "outputs": [
    {
     "name": "stdout",
     "output_type": "stream",
     "text": [
      "[2, 3, 4]\n"
     ]
    }
   ],
   "source": [
    "words =[\"ab\",\"cde\",\"erty\"]\n",
    "resnum=[]\n",
    "res=map_to_lengths_map(words)\n",
    "for i in res:\n",
    "    resnum.append(i)\n",
    "print(resnum)"
   ]
  },
  {
   "cell_type": "code",
   "execution_count": 5,
   "metadata": {},
   "outputs": [],
   "source": [
    "#Problem Statement 2:\n",
    "#Write a Python function which takes a character (i.e. a string of length 1) and returns\n",
    "#True if it is a vowel, False otherwise."
   ]
  },
  {
   "cell_type": "code",
   "execution_count": 6,
   "metadata": {},
   "outputs": [
    {
     "name": "stdout",
     "output_type": "stream",
     "text": [
      "enter one character: r\n",
      "charcter is False\n"
     ]
    }
   ],
   "source": [
    "def vowel_ck(char):\n",
    "    vowels = ('a', 'e', 'i', 'o', 'u')\n",
    "    if char not in vowels:\n",
    "        return False\n",
    "    return True\n",
    "\n",
    "\n",
    "ch=input(\"enter one character: \")\n",
    "print(\"charcter is\",vowel_ck(ch))"
   ]
  },
  {
   "cell_type": "code",
   "execution_count": null,
   "metadata": {},
   "outputs": [],
   "source": []
  }
 ],
 "metadata": {
  "kernelspec": {
   "display_name": "Python 3",
   "language": "python",
   "name": "python3"
  },
  "language_info": {
   "codemirror_mode": {
    "name": "ipython",
    "version": 3
   },
   "file_extension": ".py",
   "mimetype": "text/x-python",
   "name": "python",
   "nbconvert_exporter": "python",
   "pygments_lexer": "ipython3",
   "version": "3.6.4"
  }
 },
 "nbformat": 4,
 "nbformat_minor": 2
}
